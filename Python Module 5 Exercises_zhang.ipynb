{
 "cells": [
  {
   "cell_type": "markdown",
   "metadata": {},
   "source": [
    "1. Create a dictionary named pairs with key value pairs of hello and fire, 3 and seven, strong and 45. Print out the dictionary."
   ]
  },
  {
   "cell_type": "code",
   "execution_count": 1,
   "metadata": {},
   "outputs": [
    {
     "name": "stdout",
     "output_type": "stream",
     "text": [
      "{'hello': 'fire', 3: 'seven', 'strong': 45}\n"
     ]
    }
   ],
   "source": [
    "pairs={\"hello\":\"fire\",3:\"seven\",\"strong\":45}\n",
    "print(pairs)"
   ]
  },
  {
   "cell_type": "markdown",
   "metadata": {},
   "source": [
    "2. Add welcome and 56 pair into pairs dictionary. Print out the dictionary. "
   ]
  },
  {
   "cell_type": "code",
   "execution_count": 4,
   "metadata": {},
   "outputs": [
    {
     "name": "stdout",
     "output_type": "stream",
     "text": [
      "{'hello': 'fire', 3: 'seven', 'strong': 45, 'welcome': 56}\n"
     ]
    }
   ],
   "source": [
    "pairs[\"welcome\"]=56\n",
    "print(pairs)"
   ]
  },
  {
   "cell_type": "markdown",
   "metadata": {},
   "source": [
    "3. Delete one item from the Dictionary. Print deleted item and the dictionary."
   ]
  },
  {
   "cell_type": "code",
   "execution_count": 5,
   "metadata": {},
   "outputs": [
    {
     "name": "stdout",
     "output_type": "stream",
     "text": [
      "seven\n",
      "{'hello': 'fire', 'strong': 45, 'welcome': 56}\n"
     ]
    }
   ],
   "source": [
    "remove=pairs.pop(3)\n",
    "print(remove)\n",
    "print(pairs)"
   ]
  },
  {
   "cell_type": "markdown",
   "metadata": {},
   "source": [
    "4. Print the value of an item where key is 3 from the dicitonary"
   ]
  },
  {
   "cell_type": "code",
   "execution_count": 9,
   "metadata": {},
   "outputs": [
    {
     "name": "stdout",
     "output_type": "stream",
     "text": [
      "{'hello': 'fire', 'strong': 45, 'welcome': 56, 3: 'seven'}\n",
      "seven\n"
     ]
    }
   ],
   "source": [
    "import sys\n",
    "pairs[3]=\"seven\"\n",
    "print(pairs)\n",
    "print(pairs[3])"
   ]
  },
  {
   "cell_type": "markdown",
   "metadata": {},
   "source": [
    "5. Try to find out if the key called hello exist. Print out the key is found if it is there otherwise print out the key is not there."
   ]
  },
  {
   "cell_type": "code",
   "execution_count": 11,
   "metadata": {},
   "outputs": [
    {
     "name": "stdout",
     "output_type": "stream",
     "text": [
      "The key is found\n"
     ]
    }
   ],
   "source": [
    "if \"hello\" in pairs:\n",
    "    print(\"The key is found\")\n",
    "else:\n",
    "    print(\"The key is not there\")"
   ]
  },
  {
   "cell_type": "markdown",
   "metadata": {},
   "source": [
    "6. Loop through the dictionary and print out each value. "
   ]
  },
  {
   "cell_type": "code",
   "execution_count": 14,
   "metadata": {},
   "outputs": [
    {
     "name": "stdout",
     "output_type": "stream",
     "text": [
      "fire\n",
      "45\n",
      "56\n",
      "seven\n"
     ]
    }
   ],
   "source": [
    "for key in pairs:\n",
    "    val=pairs[key]\n",
    "    print(f\"{val}\")\n"
   ]
  },
  {
   "cell_type": "markdown",
   "metadata": {},
   "source": [
    "7. Loop through the dictionary and print out each key."
   ]
  },
  {
   "cell_type": "code",
   "execution_count": 13,
   "metadata": {},
   "outputs": [
    {
     "name": "stdout",
     "output_type": "stream",
     "text": [
      "hello\n",
      "strong\n",
      "welcome\n",
      "3\n"
     ]
    }
   ],
   "source": [
    "for key in pairs:\n",
    "    val=pairs[key]\n",
    "    print(f\"{key}\")"
   ]
  },
  {
   "cell_type": "markdown",
   "metadata": {},
   "source": [
    "8. Loop through the dictionary and print out each key and value pair. "
   ]
  },
  {
   "cell_type": "code",
   "execution_count": 15,
   "metadata": {},
   "outputs": [
    {
     "name": "stdout",
     "output_type": "stream",
     "text": [
      "hello\t:\tfire\n",
      "strong\t:\t45\n",
      "welcome\t:\t56\n",
      "3\t:\tseven\n"
     ]
    }
   ],
   "source": [
    "for key in pairs:\n",
    "    val=pairs[key]\n",
    "    print(f\"{key}\\t:\\t{val}\")\n"
   ]
  },
  {
   "cell_type": "markdown",
   "metadata": {},
   "source": [
    "9. Make a nested dictionary called parent with 2 children's information: name, age, gender. Print out parent."
   ]
  },
  {
   "cell_type": "code",
   "execution_count": 16,
   "metadata": {},
   "outputs": [
    {
     "name": "stdout",
     "output_type": "stream",
     "text": [
      "{'child1': ['Tim', 12, 'M'], 'child2': ['Sara', 6, 'F']}\n"
     ]
    }
   ],
   "source": [
    "parent={\"child1\":[\"Tim\",12,\"M\"],\"child2\":[\"Sara\",6,\"F\"]}\n",
    "print(parent)"
   ]
  },
  {
   "cell_type": "markdown",
   "metadata": {},
   "source": [
    "10. Add new child to above dictionary. Print out the name of all children."
   ]
  },
  {
   "cell_type": "code",
   "execution_count": 17,
   "metadata": {},
   "outputs": [
    {
     "name": "stdout",
     "output_type": "stream",
     "text": [
      "{'child1': ['Tim', 12, 'M'], 'child2': ['Sara', 6, 'F'], 'child3': ['Jan', 3, 'M']}\n"
     ]
    }
   ],
   "source": [
    "parent[\"child3\"]=[\"Jan\",3,\"M\"]\n",
    "print(parent)"
   ]
  },
  {
   "cell_type": "markdown",
   "metadata": {},
   "source": [
    "11. Create a Test Scores program that gets the name of students and test score from a user. Then, generate a list of students who passed and a list of students who failed where passing test score is 60 or above. "
   ]
  },
  {
   "cell_type": "code",
   "execution_count": 39,
   "metadata": {},
   "outputs": [
    {
     "name": "stdout",
     "output_type": "stream",
     "text": [
      "Enter your name (or 'q' to quit): Tim\n",
      "Enter your score: 99\n",
      "Enter your name (or 'q' to quit): Matt\n",
      "Enter your score: 87\n",
      "Enter your name (or 'q' to quit): Tid\n",
      "Enter your score: 55\n",
      "Enter your name (or 'q' to quit): q\n",
      "{'Tim': 99, 'Matt': 87, 'Tid': 55}\n",
      "3\n",
      "Tim Passing\n",
      "Matt Passing\n",
      "Tid Fail\n"
     ]
    }
   ],
   "source": [
    "test={}\n",
    "\n",
    "while True:\n",
    "    name=input(\"Enter your name (or 'q' to quit): \")\n",
    "    if name=='q':\n",
    "        break\n",
    "    else:\n",
    "        test[name]=int(input(\"Enter your score: \"))\n",
    "print(test)\n",
    "test_len=len(test)\n",
    "print(test_len)\n",
    "for name in test.keys():\n",
    "    if test[name] >= 60:\n",
    "        test[name]=\"Passing\"\n",
    "\n",
    "        print(name,test[name])\n",
    "    else:\n",
    "        test[name]=\"Fail\"\n",
    "\n",
    "        print(name,test[name])\n",
    "\n"
   ]
  },
  {
   "cell_type": "markdown",
   "metadata": {},
   "source": [
    "12. Create a Word Counter program that gets a string of text from a user and then counts the number of times a word occrs in the string. \n",
    "\n",
    "The output should look something like this:\n",
    "\n",
    "    The Word Counter Program\n",
    "    \n",
    "    Enter a text string: \n",
    "    Humpty Dumpty sat on a wall, Humpty Dumpty had a great fall. All the king’s horses and all the king’s men couldn’t put Humpty together again.\n",
    "\n",
    "    a : 2\n",
    "    again : 1\n",
    "    all : 2\n",
    "    and : 1\n",
    "    couldn’t : 1\n",
    "    dumpty : 2\n",
    "    fall : 1\n",
    "    great : 1\n",
    "    had : 1\n",
    "    horses : 1\n",
    "    humpty : 3\n",
    "    king’s : 2\n",
    "    men : 1\n",
    "    on : 1\n",
    "    put : 1\n",
    "    sat : 1\n",
    "    the : 2\n",
    "    together : 1\n",
    "    wall : 1\n",
    "\n",
    "    There were total 26 words in the text string   "
   ]
  },
  {
   "cell_type": "code",
   "execution_count": 128,
   "metadata": {},
   "outputs": [
    {
     "name": "stdout",
     "output_type": "stream",
     "text": [
      "Enter a text string:Humpty Dumpty sat on a wall, Humpty Dumpty had a great fall. All the king’s horses and all the king’s men couldn’t put Humpty together again.\n",
      "26\n",
      "['a', 'a', 'again.', 'all', 'all', 'and', 'couldn’t', 'dumpty', 'dumpty', 'fall.', 'great', 'had', 'horses', 'humpty', 'humpty', 'humpty', 'king’s', 'king’s', 'men', 'on', 'put', 'sat', 'the', 'the', 'together', 'wall,']\n",
      "wall,\n",
      "['a', 'again.', 'all', 'and', 'couldn’t', 'dumpty', 'fall.', 'great', 'had', 'horses', 'humpty', 'king’s', 'men', 'on', 'put', 'sat', 'the', 'together', 'wall,']\n",
      "a: 2\n",
      "again.: 1\n",
      "all: 2\n",
      "and: 1\n",
      "couldn’t: 1\n",
      "dumpty: 2\n",
      "fall.: 1\n",
      "great: 1\n",
      "had: 1\n",
      "horses: 1\n",
      "humpty: 3\n",
      "king’s: 2\n",
      "men: 1\n",
      "on: 1\n",
      "put: 1\n",
      "sat: 1\n",
      "the: 2\n",
      "together: 1\n",
      "wall,: 1\n",
      "There were total 26 words in the text string\n"
     ]
    }
   ],
   "source": [
    "import sys\n",
    "wordnumb={}\n",
    "lista=[]\n",
    "text=input(\"Enter a text string:\")\n",
    "text=text.strip()\n",
    "text=text.lower()\n",
    "#print(text)\n",
    "wordlist=text.split(' ')\n",
    "#print(wordlist)\n",
    "wordlist.sort()\n",
    "#print(wordlist)\n",
    "#wlen=len(wordlist)\n",
    "print(wlen)\n",
    "i=0\n",
    "\n",
    "newlist=wordlist.copy()\n",
    "for x in range(0,wlen-1):\n",
    "\n",
    "    index=newlist[x]\n",
    "    word=newlist[x+1]\n",
    "    \n",
    "\n",
    "    \n",
    "    if index != word:\n",
    "\n",
    "        lista.append(index)\n",
    "\n",
    "    i+=1  \n",
    "print(newlist)\n",
    "lastword=newlist[-1]\n",
    "print(lastword)\n",
    "lista.append(lastword)\n",
    "print(lista)\n",
    "\n",
    "for index in lista:\n",
    "    word=index\n",
    "#    print(word)\n",
    "    count=1\n",
    "    wordlist.remove(index)\n",
    "\n",
    "    for index in wordlist:\n",
    "#        print(index)\n",
    "        if index == word:\n",
    "            count+=1    \n",
    "\n",
    "    print(f\"{word}: {count}\")\n",
    "#\n",
    "print(f\"There were total {wlen} words in the text string\")\n"
   ]
  },
  {
   "cell_type": "code",
   "execution_count": null,
   "metadata": {},
   "outputs": [],
   "source": []
  },
  {
   "cell_type": "code",
   "execution_count": null,
   "metadata": {},
   "outputs": [],
   "source": []
  },
  {
   "cell_type": "code",
   "execution_count": null,
   "metadata": {},
   "outputs": [],
   "source": []
  }
 ],
 "metadata": {
  "kernelspec": {
   "display_name": "Python 3",
   "language": "python",
   "name": "python3"
  },
  "language_info": {
   "codemirror_mode": {
    "name": "ipython",
    "version": 3
   },
   "file_extension": ".py",
   "mimetype": "text/x-python",
   "name": "python",
   "nbconvert_exporter": "python",
   "pygments_lexer": "ipython3",
   "version": "3.8.8"
  }
 },
 "nbformat": 4,
 "nbformat_minor": 4
}
